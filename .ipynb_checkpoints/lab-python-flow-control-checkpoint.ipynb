{
 "cells": [
  {
   "cell_type": "markdown",
   "id": "d3bfc191-8885-42ee-b0a0-bbab867c6f9f",
   "metadata": {
    "tags": []
   },
   "source": [
    "# Lab | Flow Control"
   ]
  },
  {
   "cell_type": "markdown",
   "id": "3851fcd1-cf98-4653-9c89-e003b7ec9400",
   "metadata": {},
   "source": [
    "## Exercise: Managing Customer Orders Optimized\n",
    "\n",
    "In the last lab, you were starting an online store that sells various products. To ensure smooth operations, you developed a program that manages customer orders and inventory.\n",
    "\n",
    "You did so without using flow control. Let's go a step further and improve this code.\n",
    "\n",
    "Follow the steps below to complete the exercise:\n",
    "\n",
    "1. Look at your code from the lab data structures, and improve repeated code with loops.\n",
    "\n",
    "2. Instead of asking the user to input the name of three products that a customer wants to order, do the following:\n",
    "    \n",
    "    a. Prompt the user to enter the name of a product that a customer wants to order.\n",
    "    \n",
    "    b. Add the product name to the \"customer_orders\" set.\n",
    "    \n",
    "    c. Ask the user if they want to add another product (yes/no).\n",
    "    \n",
    "    d. Continue the loop until the user does not want to add another product.\n",
    "\n",
    "3. Instead of updating the inventory by subtracting 1 from the quantity of each product, only do it for  the products that were ordered (those in \"customer_orders\")."
   ]
  },
  {
   "cell_type": "code",
   "execution_count": 85,
   "id": "7636d80b-3789-4b96-8c98-d367aef080ba",
   "metadata": {},
   "outputs": [
    {
     "name": "stdout",
     "output_type": "stream",
     "text": [
      "['t-shirt', 'mug', 'hat', 'book', 'keychain']\n"
     ]
    }
   ],
   "source": [
    "products = [\"t-shirt\", \"mug\", \"hat\", \"book\", \"keychain\"]\n",
    "print(products)"
   ]
  },
  {
   "cell_type": "code",
   "execution_count": 83,
   "id": "46c7897c-11ce-4c50-8d4e-8e4d329c23a4",
   "metadata": {},
   "outputs": [
    {
     "name": "stdout",
     "output_type": "stream",
     "text": [
      "{}\n"
     ]
    }
   ],
   "source": [
    "inventory = {}\n",
    "print(inventory)"
   ]
  },
  {
   "cell_type": "code",
   "execution_count": 97,
   "id": "64d2c091-a242-4814-a81f-6ad282dd6d08",
   "metadata": {},
   "outputs": [
    {
     "name": "stdout",
     "output_type": "stream",
     "text": [
      "{'t-shirt': None, 'mug': None, 'hat': None, 'book': None, 'keychain': None}\n"
     ]
    }
   ],
   "source": [
    "inventory = dict.fromkeys(products)\n",
    "print(inventory)"
   ]
  },
  {
   "cell_type": "code",
   "execution_count": 125,
   "id": "d0b3a9b7-7224-44fb-93a9-f1de53d5f132",
   "metadata": {},
   "outputs": [
    {
     "name": "stdin",
     "output_type": "stream",
     "text": [
      "please input a value for t-shirt: 1\n",
      "please input a value for mug: 2\n",
      "please input a value for hat: 3\n",
      "please input a value for book: 4\n",
      "please input a value for keychain: 5\n",
      "please input a value for pants: 10\n"
     ]
    }
   ],
   "source": [
    "for product in inventory.keys():\n",
    "    value = int(input(f\"please input a value for {product}:\"))\n",
    "    inventory[products] = value #products is a variable so no need for quotations e.g. inventory[\"mug\"] i.e. dictionary[key]"
   ]
  },
  {
   "cell_type": "code",
   "execution_count": 160,
   "id": "c708319c-e3b1-410b-884c-83cd864ca10c",
   "metadata": {},
   "outputs": [
    {
     "name": "stdin",
     "output_type": "stream",
     "text": [
      "please select another product from the following list ['t-shirt', 'mug', 'hat', 'book', 'keychain']: mug\n",
      "do you want to add another product, yes or no: yes\n",
      "please select another product from the following list ['t-shirt', 'mug', 'hat', 'book', 'keychain']: pants\n"
     ]
    },
    {
     "name": "stdout",
     "output_type": "stream",
     "text": [
      "order is not a valid item\n"
     ]
    },
    {
     "name": "stdin",
     "output_type": "stream",
     "text": [
      "do you want to add another product, yes or no: yes\n",
      "please select another product from the following list ['t-shirt', 'mug', 'hat', 'book', 'keychain']: book\n",
      "do you want to add another product, yes or no: no\n"
     ]
    },
    {
     "name": "stdout",
     "output_type": "stream",
     "text": [
      "your order is complete. thank you for your order!\n"
     ]
    }
   ],
   "source": [
    "products = [\"t-shirt\", \"mug\", \"hat\", \"book\", \"keychain\"]\n",
    "customer_orders = set()\n",
    "\n",
    "#create a while loop condition\n",
    "while 'true': #the condition to create the loop, for true it will keep running until it breaks\n",
    "    order=(input(f\"please select another product from the following list {products}:\",)) #add an order\n",
    "    if order in products: \n",
    "        customer_orders.add(order) #add to list\n",
    "    else: print(\"order is not a valid item\") #show error message when incorrect item is added \n",
    "    \n",
    "    another = input(\"do you want to add another product, yes or no:\",).lower()\n",
    "    if another != 'yes':\n",
    "        break\n",
    "\n",
    "print (\"your order is complete. thank you for your order!\")"
   ]
  },
  {
   "cell_type": "code",
   "execution_count": null,
   "id": "1268fdcb-5cef-4c56-b583-4aece79b6ede",
   "metadata": {},
   "outputs": [
    {
     "name": "stdin",
     "output_type": "stream",
     "text": [
      "please select another product from the following list ['t-shirt', 'mug', 'hat', 'book', 'keychain']: mug\n"
     ]
    }
   ],
   "source": [
    "customer_orders = set() #define the empty set\n",
    "another = \"yes\" #define the start \n",
    "\n",
    "while another == \"yes\": #start the while loop \n",
    "    order=(input(f\"please select another product from the following list {products}:\",)) #what do you do when the loop starts\n",
    "    \n",
    "    if order in products: \n",
    "        customer_orders.add(order) #add order to list\n",
    "    else: \n",
    "     print(f\"\\n{order} is not a valid item\") #show error message when incorrect item is added \n",
    "     \n",
    "    another = input(\"do you want to add another product, yes or no:\",).lower() #another question\n",
    "\n",
    "print (\"your order is complete. thank you for your order!\")"
   ]
  },
  {
   "cell_type": "code",
   "execution_count": 155,
   "id": "f4b1a746-8a27-48a7-b178-5a067197f309",
   "metadata": {},
   "outputs": [
    {
     "name": "stdout",
     "output_type": "stream",
     "text": [
      "{'hat', 'mug', 'book'}\n"
     ]
    }
   ],
   "source": [
    "print(customer_orders)"
   ]
  },
  {
   "cell_type": "code",
   "execution_count": 157,
   "id": "a632b4ab-7a62-4b3b-9644-9de98c1f43b7",
   "metadata": {},
   "outputs": [
    {
     "name": "stdout",
     "output_type": "stream",
     "text": [
      "{'t-shirt': 10, 'mug': 8, 'hat': 1, 'book': 0, 'keychain': 5, 'pants': 7}\n"
     ]
    }
   ],
   "source": [
    "for products in customer_orders:\n",
    "    if inventory[products]>0:\n",
    "        inventory[products]-=1\n",
    "print(inventory)"
   ]
  },
  {
   "cell_type": "code",
   "execution_count": null,
   "id": "2b9eeeb0-367a-42a1-a812-bcb2035e0841",
   "metadata": {},
   "outputs": [],
   "source": []
  }
 ],
 "metadata": {
  "kernelspec": {
   "display_name": "Python [conda env:base] *",
   "language": "python",
   "name": "conda-base-py"
  },
  "language_info": {
   "codemirror_mode": {
    "name": "ipython",
    "version": 3
   },
   "file_extension": ".py",
   "mimetype": "text/x-python",
   "name": "python",
   "nbconvert_exporter": "python",
   "pygments_lexer": "ipython3",
   "version": "3.12.7"
  }
 },
 "nbformat": 4,
 "nbformat_minor": 5
}
